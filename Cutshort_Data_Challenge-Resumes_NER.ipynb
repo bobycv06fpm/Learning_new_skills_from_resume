{
 "cells": [
  {
   "cell_type": "markdown",
   "metadata": {},
   "source": [
    "# Problem Statement"
   ]
  },
  {
   "cell_type": "markdown",
   "metadata": {},
   "source": [
    "Dictionary based approaches don’t work in the fast evolving professional landscape. CutShort gets thousands of resumes every day. How would you learn new skills automatically from them?"
   ]
  },
  {
   "cell_type": "markdown",
   "metadata": {},
   "source": [
    "# About"
   ]
  },
  {
   "cell_type": "markdown",
   "metadata": {},
   "source": [
    "Usually hiring partners look for candidates with a set of skills. Parsing resumes and extracting information about the individual is a good start but learning new skills from resume is a potential game changer for any hiring organisation since skills keep evolving over time and very often candidates miss out to add skills relevant to their experience. So, automatically learning new skills is a win-win for both candidates and hiring team. "
   ]
  },
  {
   "cell_type": "markdown",
   "metadata": {
    "heading_collapsed": true
   },
   "source": [
    "# Phase 1: Business Understanding"
   ]
  },
  {
   "cell_type": "markdown",
   "metadata": {
    "hidden": true
   },
   "source": [
    "## Isolate Business Units "
   ]
  },
  {
   "cell_type": "markdown",
   "metadata": {
    "hidden": true
   },
   "source": [
    "In this problem, potential candidates of business units are **Skills**. "
   ]
  },
  {
   "cell_type": "markdown",
   "metadata": {
    "hidden": true
   },
   "source": [
    "## Objectives"
   ]
  },
  {
   "cell_type": "markdown",
   "metadata": {
    "hidden": true
   },
   "source": [
    "Our business objective is to 'learn new skills'"
   ]
  },
  {
   "cell_type": "markdown",
   "metadata": {},
   "source": [
    "# Phase 2: Data Understanding"
   ]
  },
  {
   "cell_type": "markdown",
   "metadata": {},
   "source": [
    "## Look at Data"
   ]
  },
  {
   "cell_type": "markdown",
   "metadata": {},
   "source": [
    "Data has been taken from Dataturks Repoistory which contains 220 annotated resumes [Entity Recognition In Resumes Data](https://github.com/DataTurks-Engg/Entity-Recognition-In-Resumes-SpaCy)\n",
    "\n",
    "For this challenge, we are learning New Skills from Resumes\n",
    "\n",
    "The keys fields in this dataset are:\n",
    "- content - text from resume\n",
    "- annotations - includes important labels like Name, Organisation,Skills etc\n",
    "\n",
    "We are only interested in skills at this moment"
   ]
  },
  {
   "cell_type": "markdown",
   "metadata": {},
   "source": [
    "## Imports"
   ]
  },
  {
   "cell_type": "code",
   "execution_count": 12,
   "metadata": {},
   "outputs": [],
   "source": [
    "import pandas as pd\n",
    "from collections import Counter\n",
    "import spacy,re,json\n",
    "from spacy.gold import GoldParse\n",
    "from spacy.scorer import Scorer\n",
    "from spacy import displacy  \n",
    "\n",
    "from sklearn.metrics import classification_report\n",
    "from sklearn.metrics import precision_recall_fscore_support\n",
    "from sklearn.metrics import accuracy_score\n",
    "\n",
    "import warnings\n",
    "warnings.filterwarnings('ignore')"
   ]
  },
  {
   "cell_type": "code",
   "execution_count": 13,
   "metadata": {},
   "outputs": [],
   "source": [
    "from __future__ import unicode_literals, print_function\n",
    "import plac\n",
    "import random\n",
    "from pathlib import Path\n",
    "import spacy\n",
    "from spacy.util import minibatch, compounding"
   ]
  },
  {
   "cell_type": "markdown",
   "metadata": {},
   "source": [
    "## Exploratory Data Analysis"
   ]
  },
  {
   "cell_type": "code",
   "execution_count": 14,
   "metadata": {},
   "outputs": [],
   "source": [
    "PATH ='/Users/raj/Desktop/ML-Learning_skills/data/entity_recognition_in_resumes.json'\n",
    "\n",
    "with open(PATH, 'r') as f:\n",
    "    lines = f.readlines()\n",
    "df=[]\n",
    "for line in lines:\n",
    "    data = json.loads(line)\n",
    "    df.append(data)\n",
    "    \n",
    "df=pd.DataFrame(df)"
   ]
  },
  {
   "cell_type": "code",
   "execution_count": 15,
   "metadata": {},
   "outputs": [
    {
     "data": {
      "text/html": [
       "<div>\n",
       "<style scoped>\n",
       "    .dataframe tbody tr th:only-of-type {\n",
       "        vertical-align: middle;\n",
       "    }\n",
       "\n",
       "    .dataframe tbody tr th {\n",
       "        vertical-align: top;\n",
       "    }\n",
       "\n",
       "    .dataframe thead th {\n",
       "        text-align: right;\n",
       "    }\n",
       "</style>\n",
       "<table border=\"1\" class=\"dataframe\">\n",
       "  <thead>\n",
       "    <tr style=\"text-align: right;\">\n",
       "      <th></th>\n",
       "      <th>annotation</th>\n",
       "      <th>content</th>\n",
       "      <th>extras</th>\n",
       "    </tr>\n",
       "  </thead>\n",
       "  <tbody>\n",
       "    <tr>\n",
       "      <th>0</th>\n",
       "      <td>[{'label': ['Skills'], 'points': [{'start': 12...</td>\n",
       "      <td>Abhishek Jha\\nApplication Development Associat...</td>\n",
       "      <td>None</td>\n",
       "    </tr>\n",
       "    <tr>\n",
       "      <th>1</th>\n",
       "      <td>[{'label': ['Email Address'], 'points': [{'sta...</td>\n",
       "      <td>Afreen Jamadar\\nActive member of IIIT Committe...</td>\n",
       "      <td>None</td>\n",
       "    </tr>\n",
       "    <tr>\n",
       "      <th>2</th>\n",
       "      <td>[{'label': ['Skills'], 'points': [{'start': 37...</td>\n",
       "      <td>Akhil Yadav Polemaina\\nHyderabad, Telangana - ...</td>\n",
       "      <td>None</td>\n",
       "    </tr>\n",
       "    <tr>\n",
       "      <th>3</th>\n",
       "      <td>[{'label': ['Skills'], 'points': [{'start': 80...</td>\n",
       "      <td>Alok Khandai\\nOperational Analyst (SQL DBA) En...</td>\n",
       "      <td>None</td>\n",
       "    </tr>\n",
       "    <tr>\n",
       "      <th>4</th>\n",
       "      <td>[{'label': ['Degree'], 'points': [{'start': 20...</td>\n",
       "      <td>Ananya Chavan\\nlecturer - oracle tutorials\\n\\n...</td>\n",
       "      <td>None</td>\n",
       "    </tr>\n",
       "  </tbody>\n",
       "</table>\n",
       "</div>"
      ],
      "text/plain": [
       "                                          annotation  \\\n",
       "0  [{'label': ['Skills'], 'points': [{'start': 12...   \n",
       "1  [{'label': ['Email Address'], 'points': [{'sta...   \n",
       "2  [{'label': ['Skills'], 'points': [{'start': 37...   \n",
       "3  [{'label': ['Skills'], 'points': [{'start': 80...   \n",
       "4  [{'label': ['Degree'], 'points': [{'start': 20...   \n",
       "\n",
       "                                             content extras  \n",
       "0  Abhishek Jha\\nApplication Development Associat...   None  \n",
       "1  Afreen Jamadar\\nActive member of IIIT Committe...   None  \n",
       "2  Akhil Yadav Polemaina\\nHyderabad, Telangana - ...   None  \n",
       "3  Alok Khandai\\nOperational Analyst (SQL DBA) En...   None  \n",
       "4  Ananya Chavan\\nlecturer - oracle tutorials\\n\\n...   None  "
      ]
     },
     "execution_count": 15,
     "metadata": {},
     "output_type": "execute_result"
    }
   ],
   "source": [
    "df.head(5)"
   ]
  },
  {
   "cell_type": "code",
   "execution_count": 16,
   "metadata": {},
   "outputs": [
    {
     "data": {
      "text/plain": [
       "(220, 3)"
      ]
     },
     "execution_count": 16,
     "metadata": {},
     "output_type": "execute_result"
    }
   ],
   "source": [
    "# Number of Rows and columns\n",
    "df.shape"
   ]
  },
  {
   "cell_type": "code",
   "execution_count": 17,
   "metadata": {},
   "outputs": [
    {
     "data": {
      "text/plain": [
       "{'',\n",
       " \"'College Name'\",\n",
       " \"'Companies worked at'\",\n",
       " \"'Degree'\",\n",
       " \"'Designation'\",\n",
       " \"'Email Address'\",\n",
       " \"'Graduation Year'\",\n",
       " \"'Location'\",\n",
       " \"'Name'\",\n",
       " \"'Skills'\",\n",
       " \"'Years of Experience'\"}"
      ]
     },
     "execution_count": 17,
     "metadata": {},
     "output_type": "execute_result"
    }
   ],
   "source": [
    "# Finding all the unique labels in training data\n",
    "uniq_skills=[]\n",
    "for lines in df['annotation']:\n",
    "    u = str(lines[0]['label']).strip('[]')\n",
    "    uniq_skills.append(u)\n",
    "    \n",
    "set(uniq_skills) "
   ]
  },
  {
   "cell_type": "code",
   "execution_count": 18,
   "metadata": {},
   "outputs": [
    {
     "name": "stdout",
     "output_type": "stream",
     "text": [
      "{'CRM (3 years), DATABASE (3 years), ORACLE (3 years), Tosca (3 years), Automation Testing (3\\nyears), Selenium (1 year), Core Java (1 year)\\n\\nADDITIONAL INFORMATION\\n\\nKey Skills:\\n❖ Software tools: IBM Rational Collaborative Lifecycle Management\\n❖ Testing Tool: IBM Rational Quality Management on Jazz Server\\n❖ Test Automation Tools: TOSCA, Selenium\\n❖ Programming Language: Core Java\\n❖ IDE: Eclipse\\n❖ Database: Oracle, EDB, Sqlserver\\n❖ Database Tools: SQL Developer, Toad, Tora\\n❖ Software tools: Filezilla, MobaXterm, Putty, Office tools\\n❖ Platforms: Windows, UNIX\\n❖ Domain Software Knowledge: Finacle Core Banking Solution, Finacle CRM Solution.\\n\\nSkills: Fast learner, leadership quality, team player, presentation skills, work devotee, punctual,\\ngood communication and listening skills.', '\\nTypewriting, Editing\\n', 'excel, powerpoint, vlookup, formula, filters, paint, recruitment, (1 year)\\n', 'Linux (Less than 1 year), Microsoft Office (Less than 1 year), MS OFFICE (Less than 1 year),\\nproblem solving (Less than 1 year)\\n\\nADDITIONAL INFORMATION\\n\\nSkill Set\\n➢ Excellent communication and interpersonal skills.\\n➢ Proficient in Computer Applications -Microsoft Office Windows (Windows 2007, XP, 8, 8.1 and\\nWindows 10), Linux, Fedora.\\n➢ Strong analytical and problem solving skills.\\n➢ Ability in managing a team of professionals and enjoy being in a team.', 'PERL (10+ years), SCRIPTING (10+ years), SQL (10+ years), DATABASE (10+ years), SHELL\\nSCRIPTING (10+ years)', ' Basic Computers knowledge\\n● Good Understanding of Business Ethics, Operational Research.\\n● Completed Project Work on working capital with A+ Grade.', 'REMEDY (3 years), CLARIFY (Less than 1 year), EXCEL (Less than 1 year), MS OFFICE (Less than\\n1 year), OUTLOOK (Less than 1 year)\\n\\nADDITIONAL INFORMATION\\n\\nSkill Set:\\n\\n• Systems: Windows […] 10)\\n• Software: MS Office (Word, Excel, Outlook, PowerPoint), Clarify, SRMS Remedy V6 (Advanced),\\nRemedy V7.4 (Proficient), Remedy 7.5, MORI, GCD, LOCM, GTOMS, Webex, Smartsheet.', 'SKILLS SQL\\nMS Excel\\nHTML\\nJavascript', 'Reporting Tools BIRT, Cognos (Basics)\\nDatabase Oracle\\n\\nOperating Systems Windows\\nLanguages SQL, JavaScripting\\nWeb Technologies Tools HTML SQL Developer, Eclipse', '● Corporate Communications\\n● Creative Team Leadership\\n● Adept problem solver\\n\\n• Development of Training Materials\\n● Strong Analytical and logical skills', 'logging', 'SKILLS • Ability to build teams and motivate them towards team goals\\n• Effective Communication skills\\n• Able to handle and overcome objections\\n• Ability to work effectively in a team environment\\n• Ability to adapt to the changes in organization along with successful\\nimplementation of the change in the system', 'Sql Server, Ssis, T-SQL, ETL, SSRS', '* Sincere and Hardworking in nature\\n* Highly Dedicated towards work\\n\\n* Efficient Individual and Team Player\\n* Goal Oriented & Self Motivated\\n\\nIT Literacy', 'Splunk, Network Security, Arc sight (2 years), SIEM (2 years), McAfee ESM (1 year)', 'Consistent', 'GIT', 'Analytics, Research', 'Project Management, Product Marketing, Campaigns Management, Digital Marketing, Social\\nMedia Marketing, Marketing Operations, Content Marketing, Channels Operations, Marketo\\nAdmin User, Microsoft Office, Cross Functional Marketing, Salesforce, Marketing Programs,\\nGlobal Marketing, Marketo, Training', '\\n• Desk Manuals/Business Process & Navigation Documentation\\n• Business Ethics\\n• Professional Communication\\n• Reporting Tools & Microsoft Office Applications', 'Microsoft office and java (Less than 1 year)', 'Specilization\\n', 'Excel (10+ years), Operations (7 years), Project management (5 years)', '40 WPM (Less than 1 year), AUTOCAD (Less than 1 year), EXCEL (Less than 1 year), MS EXCEL\\n(Less than 1 year), MS OFFICE (Less than 1 year)\\n\\nADDITIONAL INFORMATION\\n\\nSOFTWARE SKILLS\\n• Completed successfully MS-CIT MS Office - Basic Computer Course (MS Word, MS Excel, MS\\nPower Point & Internet) AutoCAD in Electrical\\n\\n\\n\\n• Good English, Marathi, & Hindi Typing Skills (30-40 Wpm)', 'Oracle Pl/Sql (6 years), Facets (3 years), Hadoop (1 year), healthcare (4 years), Informatica (6\\nyears)\\n\\nADDITIONAL INFORMATION\\n\\nTechnical Skills:\\n\\nOperating System Unix and Windows\\nProgramming languages Unix Scripting, SQL and PL/SQL, Core Java, Basics of Python\\nDatabases and Tools Informatica Power Center, Oracle, Hadoop and Spark\\nOther Utilities SVN, Jira\\nScheduling Tools Tidal and Control-M\\nCloud Technology Microsoft Azure\\nDomain Knowledge Retail, Healthcare, Banking\\n', 'ERP', 'OOPS-ABAP', 'Languages: Core Java\\nFront end/GUI Tools programming: Adobe Flex, GWT\\nDatabase: Oracle 10g\\nIDE: Eclipse, FlexBuilder\\nFrameWorks: Spring(Basics), MVC frame work\\nOperating System: Windows, Linux, Unix', 'ANDROID (Less than 1 year), CISCO (Less than 1 year), NETWORKING (Less than 1 year)', 'Operating Systems Windows and Unix\\nConfiguration management tools TFS and VSTS\\nProgramming Languages VB, ASP, VB.net, C#, JavaScript, Jquery and Angular JS (Starter), CRM\\nFrontend HTML and .Net\\nMiddleware MVC and WCF\\nDatabase SQL Server and Oracle\\nContent Migration tools Metalogix and Sharegate\\nAutomation PowerShell and VSTS\\n\\nDOMAIN EXPERIENCE\\nInsurance 10 Years\\nEngineering 3 Years\\nBanking 2.5 Years\\n', 'ACTIVE DIRECTORY (2 years), EXCEL (2 years), EXCHANGE (2 years), INCIDENT MANAGEMENT\\n(2 years), OPERATIONS (2 years)', 'SKILL SET • ASP.NET, C# • QA tools\\n\\n• Coding and modularization • Excellent communication skills\\n\\n• VB, VB.net, ASP • Technical specifications creation\\n\\n• HTML • System backups\\n\\n• Sql server 2005, Oracle • System upgrades\\n\\n• Java/C/C++ • Excellent problem-solving abilities\\n\\nNavas Najeer Koya 3', 'Hvac tech (3 years)', 'HR (9 years), COMPENSATION (1 year), RECRUITMENT (1 year), DETAIL ORIENTED (Less than 1\\nyear), DOCUMENTATION (Less than 1 year)\\n\\n\\n\\nADDITIONAL INFORMATION\\n\\nCORE COMPETENCIES\\n• Performance Management\\n• Recruitment & Retention\\n• Training & Development\\n• HR Policies & Procedures\\n• Employee Exit\\n• Confidential Record Keeping\\n• HR Department Start-up\\n• Event Management\\n• On-boarding, Orientation & Induction\\n• Employee Counselling\\n• Attendance & Leave Management\\n• Team Building and Morale building\\n• Process Documentation\\n• Payroll & Compensation\\n\\nTECHNICAL EXPERTISE\\n• Well versed with Microsoft Office (Word, Excel & Power Point)\\n• Microsoft Project\\n• Lotus, outlook and internet job portal applications.\\n\\nPERSONAGE ELEMENTS\\n• Analytical & Critical thinking\\n• Compliant & Adaptive\\n• Detail Oriented\\n• Flexible\\n• Honest & Hardworking\\n• Leadership\\n• Logical\\n• Versatile\\n• Work Ethic', 'Programming Languages Python, TCL, Power Query, SQL, Shell Scripting, C#\\nConcepts Networking, WAAS (Wan Optimization), WAAS on Router, WAE(Wide Area Engine),\\nWCCP Protocol,\\nAutomation Framework ATS (Automated Test System), Selenium Testing Framework\\nIDE(Integrated Development Environment) Eclipse, Pycharm, Pydev[Plugin for eclipse IDE]\\nSoftware\\nEclipse CDETS & Rally (Bug Tracking), eARMS (Regression testing), ACME(Versioning),\\nTIMS(Reporting), HTMLTestRunner, Power Query(Automation), ARAS PLM(Product Lifecycle\\nManagement), AML Studio (adaptive markup language)\\n\\nOperating Systems Windows XP/10, Linux', 'AMADEUS (3 years), CLIENT MANAGEMENT (3 years), EXCEL (3 years), MS WORD (3 years),\\nWORD (3 years)', 'Platform business model, Behaviour design\\n', 'Microsoft DPM, EMC Legato Networker & Symantec Backup Exec', 'Good team working ability', '❖ Operating Environment: […] Windows95/98/XP/NT\\n❖ Database Tool: SQL Management Studio (MSSQL), Business\\nDevelopment Studio, Visual studio 2005\\n❖ Database Language: SQL, PL/SQL\\n❖ Ticket Tracking Tool: Service Now\\n❖ Reporting Tools: MS Reporting Services, SAS\\n❖ Languages: C, C++, PL/SQL', 'M.S. OFFICE', 'AUDITING (Less than 1 year), CFA (Less than 1 year), DERIVATIVES (Less than 1 year),\\nFINANCIAL ANALYST (Less than 1 year), FINANCIAL STATEMENT ANALYSIS (Less than 1 year)\\n', \"Uft/qtp,alm/qc,jira,jenkins,automation testing,cicd,service vitualization,uipath\\n\\n\\n\\nADDITIONAL INFORMATION\\n\\nOperating Systems Windows 10 / 8 / 7 / Vista / XP\\n\\nDomains Banking and Finance\\n\\nFrameworks Data driven framework, Keyword driven framework\\n\\nTools HP-UFT, HP-SV, HP-ALM/QC, SOAP UI, JENKINS, UiPath\\n\\nMethodologies STLC, Agile and waterfall.\\n\\nProject Management Tools JIRA\\n\\nTECHNICAL SKILLS\\n\\n• 2.5+years of professional experience in SQL.\\n• Has hands on experience on Oracle DB (Oracle 11g)\\n• Has extensive knowledge of Testing Procedures and various\\nphases of Testing Has 2+ years of experience on QC/ALM\\n• Has 2+ years working experience in API & GUI testing\\nusing HP UFT. Has 4 months of experience with uiPath\\n• Has 2+ years working experience in SOAP UI.\\n• Has 1.5+ year working experience on service virtualization using HP SV tool.\\n• Has 6 months working experience in JIRA during work under agile methodology.\\n• Has undergone Infosys Training in .Net Testing.\\n• Has knowledge about CICD (Continuous integration and continuous delivery)\\n\\nPROJECT UNDERTAKEN\\n\\nDI-Middleware testing (August 14 -\\nJuly 17) Domain- Accounts and customer.\\nClient- ABN AMRO Bank (Netherland's bank)\\nProject Name- ESB (Enterprise service bus)\\n• Tools- ALM, SQL Developer, HP UFT, HP SV, SOAP UI, JENKINS, JIRA.\\nIn this project, we were validating end to end communication of consumer & provider via ESB.\\nWhat consumer actually\\nsent to the Provider and how provider responds to the consumer. Testing included System\\nIntegration Testing,\\nRegression Testing, GUI Testing and Reports.\", 'Jira, Ansible, Jenkins, Splunk, Nagios, Docker, Python, AWS, Bamboo, Linux, Git, Chef, Windows,\\nPowershell Scripting\\n', '\\nHtml, Css, Javascript, Salesforce', ' Windows and Linux', \"Languages Java, Java Script, PL/SQL, SQL SERVER, HTML, XML,\\nXSLT\\nApplication Servers J Boss, Apache Tomcat, Web logic, IBM web sphere\\n\\nDatabases Oracle, SQL SERVER\\n\\nDevelopment Tools MVC, Singleton, Session Facade, DTO, DAO,\\n\\nService Locator\\n\\nSOA Restful Web Service, Soap web service, JAX-RS, XML, JSON, WS\\nSecurity, Mule ESB\\n\\nIDE's/TOOLS Eclipse, Mule Anypoint Studio\\n\\nJava/J2EETechnologies Java, Servlets, JSP, JDBC, EJB, JMS\\n\\nProtocols HTTP, FTP, TCP/IP\\n\\nVersion Control tools CVS, SVN, GIT\\n\\nBuild Tool Ant, Maven\\n\\nBug Tracking Tools HP Quality Center, Rally\\n\\nFrameworks Spring, Hibernate, Struts, Spring MVC, Micro Services, EJB, JMS\\n\\nOperating Systems Windows, UNIX, LINUX\", 'Automation Testing Tools: Selenium WebDriver, Cucumber, Maven, Jenkins, Cyara\\nLanguages/Frameworks: JAVA, Data Driven, Hybrid, Page Object model, SOAP UI, JUnit, TestNG\\n(TDD), Gherkin language (BDD), Cucumber, Log 4j\\nDefect Tracking Tools: JIRA, HP ALM\\nAPI Webservices Automation Skills: SOAP, REST, HttpClient, SOAP UI, XML, Jmeter, Postman\\nTest Management Tools: HP ALM, Confluence page\\nRDBMS: MySQL, Oracle, Mongo DB\\nSource Control Management: SVN, GIT\\nOperating Systems: Windows\\nDomain Knowledge: E-commerce, Financial, Banking, Telecom, Billing', 'ITIL foundation', 'LINUX (4 years), UNIX (4 years), ospf (4 years), bgp (4 years), mpls (4 years), ipsec (4 years),\\nmulticast (4 years), l2vpn (4 years), l3vpn (4 years), tcl (4 years), python (2 years)\\n', 'C, C++, Data Structure, Java (1 year)', 'HTML (Less than 1 year), MS OFFICE (Less than 1 year), Tally (Less than 1 year)\\n\\nADDITIONAL INFORMATION\\n\\nCOMPUTER SKILLS\\nPackages: MS Office, HTML, TALLY\\n', 'problem solving (Less than 1 year), project lifecycle (Less than 1 year), project manager (Less\\nthan 1 year), technical assistance. (Less than 1 year)', 'Databases: Oracle &SQL Server\\nOperating System: MS-DOS, Windows 98/XP &UNIX, Windows 7\\nLanguages: C, C++\\nTesting Tools: Q.T.P, Win Runner7.5, Load Runner 9.5\\nNetworking: Hands on Experience On Cisco devices, AAA, TACACS, RADIUS, VPNs\\nSecurity: Security scans using Nessus and Retina tools, Penetration\\ntesting using Proxy and SSL scans, GAP Analysis using CSERV', 'computer and firesafety\\n', 'C++, Hacking, Programming', '\\n• Programming language: C, C++, Java\\n• Oracle PeopleSoft\\n• Internet Of Things\\n• Machine Learning\\n• Database Management System\\n• Computer Networks\\n• Operating System worked on: Linux, Windows, Mac\\n\\nNon - Technical Skills\\n\\n• Honest and Hard-Working\\n• Tolerant and Flexible to Different Situations\\n• Polite and Calm\\n• Team-Player', 'Programming Languages C# .NET, CPP, C\\n\\nWeb Development ASP.NET, HTML, CSS, JavaScript\\n\\n\\n\\nTools used MS visual Studio v2013, MS SQL Server v2008\\n\\nOperating Systems Windows 10 / 8.1/ 7\\n\\nDatabases MS-SQL', 'Technical Experience: - Automation Testing (REST API, Service Virtualization), Functional Testing,\\nRegression Testing\\nManual Testing, Scripting (SQL)\\nDomain Experience: - Telecom, Banking\\nProgramming & Scripting Languages: - HTML, CSS, XML, SQL, JAVA (Basic), JSON\\nSDLC Model: -Waterfall, Agile\\nTesting Tools: - CA LISA, APM (Amdocs Process Manager), SOAP UI, TOSCA, HP-ALM (QC)\\nTest Management Tools: -JIRA, Quality Center\\nOther Tools: -SQL Developer, TOAD.\\nDatabase: - DB2, SQL', 'IoT, MySQL, PostgreSQL, D3js, Hadoop and Spark, Gephi', 'rogramming Languages :C/C++, angular, java, java servlet, HTML, java script, MySQL, css, jsff.\\n\\nOperating Systems Linux, Windows, Android\\n\\nORM Eclipse Link, Hibernate\\n\\nFramework & tools :ADF, Eclipse, Android Studio, Git, Selenium, Code blocks, Net beans, R studio,\\nTortoise SVN.', 'DHCP (Less than 1 year), DNS (Less than 1 year), EXCHANGE (Less than 1 year), exchange\\n(Less than 1 year), LAN (Less than 1 year)\\n\\nADDITIONAL INFORMATION\\n\\nSKILLS:-\\n\\n• Messaging: MS exchange, Lotus client and MS outlook issue coordination to user.\\n\\n• Users / Share folders creation and permission assigning.\\n\\n• Networking: TCP/IP, DNS, DHCP, and LAN/WAN.\\n\\n• Monthly patching update activity and server owner approval / RFC follow-ups.', 'Operating systems: Windows […] 8, 10.\\nLanguages: C, C++, C#\\n\\nPROFESSIONAL SKILL SET:\\n\\n• Good Communication Skills in English and Hindi.\\n• Ability to work under pressure.', '\\nSoft Skills:\\n• Cross Cultural Sensitivity\\n• Written Communication Skills\\n• Articulation Skills\\n• Effective Meetings', 'Manual Testing, Protractor, Selenium Webdriver, Automation Testing, API Testing', 'MENTORING (5 years), TRAINING (5 years), PROGRAM MANAGER (2 years), PROJECT\\nMANAGEMENT (2 years), CHANGE MANAGEMENT (Less than 1 year)\\n\\nADDITIONAL INFORMATION\\n\\nSkills Project Management, People Management, Stake Holder\\nManagement, Vendor Management, Project Planning Scheduling and\\nImplementation, Risk Analysis, Cross-functional supervision, Team\\nbuilding and mentoring, Change Management, Escalation Handling,\\nChange Management, Quality Assurance, Training & Presentations.\\nResume - Program Manager', 'TRAINING (2 years), CASH (Less than 1 year), EXCEL (Less than 1 year), SAP (Less than 1 year),\\nWINDOWS 7 (Less than 1 year)\\n\\nADDITIONAL INFORMATION\\n\\n-\\n\\nGood communication skills\\nExcellent logical reasoning\\nInnovative and creative\\nQuick learner\\nGood knowledge of tools like (SAP, ADMARC, PPI)\\nPositive attitude to words the problems and solving ability', 'Invoice (5 years), posting. (5 years), TRAINING (4 years)\\n\\nADDITIONAL INFORMATION\\n\\nSKILLS\\nInvoice processing, Team handling, new joiners training.sap posting,vendor call attend and\\nresolve the issue,meet SLA tat,working with client tool.\\n', 'asp.net, dynamics ax technical consultant, sql, x++\\n', ' Ability to work with team.\\n❖ Good communication skills.\\n❖ Good inter-personal skills.\\n❖ Positive Attitude.\\n❖ Hard & Smart Working.\\n❖ Building good relationship with people.\\n❖ Ability to work under tough situation.\\n❖ Self-Motivator.\\n', 'Sql Server,Cloud Computing,OpenStack, OpenShit, AWS,GCP,Azure, ClouStack,KVM,Hyper-\\nV,Citrix Xen Server, ESXi, Chef, Ansible, Jenkins, Maven, Sonar Qube, Nexus, Teamcity, Octopus,\\n(3 years)', 'Soft Skills\\n\\nCommunicator, Innovator, Team Player, Analytical Collaborator. Intuitive\\n\\nTechnical Skills\\n• Google AdWords, Google Analytics, Inbound Marketing, SEO (On-page and Off- page), SEM,\\nFacebook Ads and Social\\n•Project Management, MS Project Professional\\nMedia Campaigns (Content Bucketing)\\n• Tableau, Microsoft Power BI, SPSS\\n• MS Office Suite, Advanced Excel, MS SharePoint, Visio, Adobe Photoshop, Pega Marketing and\\nBPM', 'Domain telecom\\n\\nPlatform-windows\\n\\nFramework-filezilla, putty', \"• Programming Language: core java, peoplecode.\\n• Scripting languages: PHP, JavaScript.\\n• Web Languages: HTML, CSS.\\n• Database Language: Sql.\\n• Frameworks: Bootstrap, JQuery.\\n• IDE's: NetBeans, Eclipse.\\n• Tools: Application Designer, Toad.\", 'Computer: Proficient in Windows, Word, Excel, Outlook, PowerPoint Language: Fluent in verbal\\nand written English, Hindi and Bengali', 'Associate (Less than 1 year), CSS. (Less than 1 year), HTML5 (Less than 1 year), Java (Less\\nthan 1 year), JavaScript (Less than 1 year)\\n\\nADDITIONAL INFORMATION\\n\\nTECHNICAL SKILL SET:\\n\\n• Programming Languages: C, Java, JavaScript, SQL.\\n• Web Technologies: HTML5, CSS.\\n• Working Platform: Windows, Linux.', 'Oracle Apps DBA Release Enginner\\n', 'BGP (2 years), EIGRP. (2 years), OSPF (2 years), security (2 years), vlan (2 years)\\n\\nADDITIONAL INFORMATION\\n\\nTechnical Skills\\n\\nNetwork\\n➢ Switching: CST, PVST, PVST+, RSTP and MST, VLAN, Private VLAN, Trucking, Inter-VLAN Routing,\\nSPAN/RSPAN, Ether channel or Port Bundling using static and dynamic protocol (PAgP and LACP)\\n➢ FHRP: HSRP (V1 & V2), VRRP and GLBP.\\n➢ Routing: Configuration and Troubleshooting Layer 3 Routing protocols such as Static routing,\\nfloating routing, RIP, EIGRP, OSPF, BGP, VRF-Lite and MPLS.\\n\\nData Security\\n➢ Checkpoint Firewall: FW Monitor, TCP-Dumps, Rules, NAT, IPsec VPN, Backup & Restore, URL\\nfiltering, Installation, Migration, Upgradation, ClusterXL etc.\\n➢ ASA Firewall: Access Control Lists with object, Address Translation, IPsec VPN, LAN-to-LAN VPN,\\nHigh Availability in Active-Active & Active-Standby Mode, Redundant interface, SLA Monitoring,\\nSecurity Contexts.\\n➢ IOS Firewall: Standard and extended access list and Zone Based Firewall (ZBF), DMVPN, IPsec,\\nIPsec over GRE.\\n\\nServices\\n➢ Services: ARP, GARP, RARP, DNS, DHCP, FTP, TFTP, TCP, ICMP, TELNET, SSH, HTTP, HTTPS. IP\\nSLA, NTP, SNMP', 'Teaching', '10 Skill Sets\\n• Quick learner and team player', 'Parsuing cs profesional.', 'Linux', 'REST', 'Teradata', 'C++ (6 years), LINUX (6 years), .NET (2 years), VISUAL STUDIO (2 years), JAVA (1 year)\\n\\nLINKS\\n\\nhttp://www.linkedin.com/in/ajayelango\\n\\nADDITIONAL INFORMATION\\n\\nTECHNICAL SKILLS\\n\\nProgramming Languages: C++(98/11), Java, Python, C, JavaScript, MATLAB, SQL, C#, PHP\\nSoftware Tools: Microsoft Visual Studio, Eclipse, gdb, ddd, TotalView Debugger,\\nHoops 3DGS, OpenGL, IBM ClearCase, GitHub, vi editor, JIRA, Trello\\nBoard, Valgrind, Perforce, LabVIEW, Visio, Enterprise Architect, gedit\\nOperating Systems: Linux, Windows\\nDatabases: Oracle […] Microsoft SQL Server, IBM DB2', 'C# (Less than 1 year), Database (Less than 1 year), Java (Less than 1 year), JIRA (Less than 1\\nyear), load runner (Less than 1 year)\\n\\nADDITIONAL INFORMATION\\n\\nKey Skills:\\n\\n• Programming Languages: C#, Java\\n• Automation Testing: Selenium Webdriver, Xamarin.UITest, Protractor, Speflow\\n• Performance Testing: HP Load Runner (True Client protocol)\\n• Software Testing: Test Scripts, Test Case Design, Test Summary\\n• Platform: Windows.\\n• Database: SQL Server 2012, Oracle\\n• Management tools: JIRA, HP Quality center; vsts.', 'Program Management (2 years), Product Management (2 years), Quality Assurance (10+\\nyears), Business intelligence, Devops\\n', ' Tools: ISPF, SPUFI, QMF, File-Aid, MainView, Librarian, CA7, Control-M, Xpeditor\\n• Operating System: Windows 7\\n• Database: DB2, SQL Server\\n• Domain: Retail\\n• Packages: MS office\\n\\n• Secondary Skills: Java Script, HTML, JSP, Java, Oracle 10g, Unix', 'TALLY MICROSOFT DYNAMIC OPARATER MICIT\\n', 'ENGINEER (4 years), TESTING (Less than 1 year), UI (3 years), USER INTERFACE (Less than 1\\nyear), ANALOG (Less than 1 year)\\n', 'Programming • JAVA, C++, C, Matlab, SQL\\n\\nOperating System • Windows, Linux\\n', 'Responsibility and patience to do work assigned by superiors.', '• Good communication - written and oral skills\\n• Excellent conceptual and analytical skills\\n• Effective interpersonal skills\\n\\nPERSONALITY\\n• Communicative • Punctuality\\n• Creativity • Organized', '\\nComputer Skills\\n@ MS-CIT Course passed with 74 % (Microsoft-word, Excel, and Power-point)\\n@ Diploma in Financial Accounting with tally 9 Erp. (87%)', 'CRM (10+ years), CUSTOMER RELATIONSHIP MANAGEMENT (10+ years), TESTING (10+ years),\\nUI (10+ years), USER INTERFACE (10+ years)\\n', 'PMP trained six sigma yellow belt', 'Scripting Languages: Shell Scripting\\nConfiguration Management: Ansible.\\nContainer service: Docker', 'SQL (1 year), HTML (Less than 1 year), INCIDENT MANAGEMENT (Less than 1 year), IT\\nINFRASTRUCTURE (Less than 1 year), MS OFFICE (Less than 1 year)', '\\nLead genearation, Customer Handling, cold calling, Negotiation, upselling, IT sales, outbound\\ncalling, Technical Support, sales forcasting, Software sale, product demonstration, cross selling,\\nInside Sales, Technical sales, MS office, software integration, Network Management\\n', 'Storekeeping / Inventory Management / Purchase (2 years), People & Time Management (2\\nyears)\\n\\nADDITIONAL INFORMATION\\n\\nCompetencies\\n\\n❖ Effective communications skills, excellent interpersonal skills, good time management skills,\\nresults-oriented individual and a very good team player.\\n❖ Sincere, hardworking and willing to take up challenging assignments.\\n', ' Languages & Technologies: Python, R, SQL, NoSQL, Predictive Modelling,\\nMarket Basket Analysis, Sentimental Analysis, Clustering, Bash\\nScripting (Preliminary), Socket Programming, Java (Preliminary)\\n\\n• Tools: R Studio, Jupyter, GIT, Sublime, MATLAB, Linux, KVM, Virtual Box,\\nOpen VZ, Oracle SQL Developer, MySQL, MongoDB, Excel', '\\nFront office executive (1 year)\\n\\nADDITIONAL INFORMATION\\n\\nTECHNICAL SKILL\\n• Basic Knowledge of Computer operating\\n• MS OFFICE (MS excel, Ms Word and Power Point)\\n• With typing speed 25 wpm\\nPERSONAL SKILL\\n• Positive Attitude\\n• Good decision making\\n• Good communication skills\\n• Confident\\n• Have zeal to learn new things', 'file systems (2 years), Linux (2 years), maintenance (2 years), scheduling (2 years)', 'Automation, Testing, Mobile Testing, SDET, Scrum Master', '• Languages - Python\\n\\n• Software/Tools - Selenium, WAF, Sauce Labs, Jenkins, Creo parametric 2.0, Catia V6, Ansys', 'Skills: JAVA, C#, WPF, XAML, Robot Framework, Scrum, Guice, ATDD, SOA, Fixed Income, CoreNLP,\\nSOLID\\nprogramming, OOPs, NLP, Microservice architecture.', 'AWS Devops', '\\nSAPUI5 (2 years), CSS. (2 years), EMPLOYEE RESOURCE GROUP (2 years), ENTERPRISE\\nRESOURCE PLANNING (2 years), SAP ABAP (2 years)\\n\\nADDITIONAL INFORMATION\\n\\nTechnical skills\\nLanguages SAPUI5 (Primary Skill),\\nABAP/4, C, C++, HTML, CSS, JavaScript, PHP,\\njQuery, Ajax.\\nERP SAP R/3 in 4.7, 5.0 (E)\\nOperating Systems Windows\\nDatabase MySQL, Oracle', 'Programming Languages Python, Java.\\n\\nScripting Language jQuery, JavaScript, Ajax.\\n\\nOperating Systems: Linux\\n\\nDatabases: SQL, kafka.\\n\\nTools and Utilities: Elasticsearch, Prometheus, Grafana, kibana, Docker', 'Good listener,take up responsibilities,good at communication,great at taking\\nchallenges,excellent in various sports like soccer,cricket,kabbadi,cycling,running,swimming,\\nfluent in English,kannada, known languages hindi,tail,telugu', 'Technical skillset:\\n• Manual Testing Techniques\\n• Web Application testing\\n• STLC (Software Testing Life Cycle) process\\n• Verification and Validation process\\n• Programming Language: Software Testing, ASP.Net with C#\\n\\n• Frameworks: Microsoft Visual Studio 2010, Frameworks 3.5, Frameworks (C#) 4.0, 4.5\\n• Database tools: MySQL, SQL Server 2008, SQL Server 2010, MS-Access 2008\\n• Report generation Tool: Crystal Report', 'Application Development, Software Testing', 'Testing (10+ years), Program Management (10+ years), Automation Testing (10+ years),\\nSelenium Webdriver (4 years), Project Management (10+ years), Java (10+ years), AWS (10+\\nyears), Cloud Computing (4 years)\\n', 'TECHNICAL SKILLS:\\nPlatforms Windows, Unix, Linux\\nScripting Language PowerShell scripting, Shell scripting.\\nDatabases Oracle, SQL Server\\nBuild Tools Maven, Ant, MSBuild, Nant\\nCICD Tools CloudBees Jenkins, TFS, GIT, SVN, Octopus, Jira, , Sonarqube, MSTest, Nexus,\\nArtifactory, Cobertura, Ansible', 'Java, SQL, J2EE, Sping, Hibernate, JavaScript, HTML, CSS\\n\\nADDITIONAL INFORMATION\\n\\nServing notice period', 'Microsoft office, Libreoffice', 'Excel (Less than 1 year), Word (Less than 1 year)\\n', 'Technical Skills\\n\\n\\n\\nOS Windows XP, Vista\\nOthers Microsoft word/excel/power point, Basic computer skills, Tally\\n', '\\nSap Sd (7 years)', '✓ ADVANCED MS OFFICE (WORD, POWERPOINT, EXCEL, ETC.)\\n✓ ADOBE PHOTOSHOP, READER X, ACROBAT, COREL DRAW, MICROMEDIA FLASH ETC.\\n✓ JAVA NETBEANS, SQL, HTML, CMD PROMPT, ETC.\\n✓ FAMILIAR WITH ALL SORTS OF WINDOW SETS AND WEB BROWSERS.\\n✓ ALL KINDS OF UTILITY SOFTWARES AND HARDWARE OPTIONS TO INCREASE EFFICIENCY AND\\nEFFECTIVENESS IN WORKING.\\n✓ COMPLETE KNOWLEDGE OF MICROSOFT EXCHANGE SERVER 2012.\\n✓ CAN DEVELOP WEBSITES BASED ON HTML, PHP ETC.\\n✓ BASIC KNOWLEDGE OF ANDROID AND MAC APPLICATIONS.\\n✓ COMPLETE KNOWLEDGE OF SERVER AND CLIENT BASED ENVIRONMENT\\n✓ BASIC KNOWLEDGE OF MICROSOFT WINDOWS FIREWALL', \"• Programming Languages: Java & J2EE, PHP, Apache Nifi, SOAP Web Services, Rest Web Services,\\nJackson-2\\n• Framework's: Spring, Hibernate, Junit, Mockito\\n• Database: MYSQL, SQL Server, Oracle\\n• App/Web Servers: Tomcat, Apache\\n\\n• Operating Systems: Windows, Linux\\n• SKM: Lithium\\n• Tools: Git, JIRA, Eclipse, putty\\n\\nKnowledge Purview\\n\\n• Methodologies and Principles:\\n◦ Code Generation Tools\\n◦ Documentation Generation\\n◦ Inversion of Control\\n◦ Iterative Development\\n◦ Object Oriented Programming\\n◦ Deployment\\n◦ Agile\\n\\nProfessional Experience\\n\\nCore Competencies\\n\\n~ Requirement Gathering\\n~ Deployment & Support\\n~ Project Management\\n~ Software Development Life Cycle\\n~ Delivery Management\\n~ Quality Assurance\\n~ Application / Software Development\\n~ Liaison & Coordination\", 'C++, Html, Javascript, Software Development\\n', 'CHEF', '\\nMENTORING (10+ years), SCHEDULING (9 years), ORACLE (9 years), SOLUTIONS (9 years),\\nBENEFITS (4 years)\\n', 'Bid management, Sales support, Requirement Analysis, Test Planning and Test execution', 'Tally', 'SECURITY (5 years), INFORMATION SECURITY (5 years), ACTIVE DIRECTORY (3 years), UNIX\\n(Less than 1 year)\\n\\nADDITIONAL INFORMATION\\n\\nTECHNICAL SKILLS\\n\\n● Operating Systems: Windows, Solaris\\n● Languages: Python, Core Java, SQL, Unix\\n● Software: Sailpoint IIQ, Oracle IAM, Beeline, SAP, Active Directory, Phantom, Quest change\\nauditor, Microsoft Office Suite\\n● Information Security: Concepts and best practices', '• Good Communication Skill\\n• Sincere\\n• Hard working\\n• Leadership skill\\n• Pleasing personality\\n• Problem solving capability\\n', \"Classical and Interactive Reports\\n• BDC's, LSMW, BAPI,\\n• BADI, User Exits\\n• Data Dictionary objects\\n• Dialog Programming\\n• ALE/ IDOCS\\n• SAP Scripts, Smart Forms\\n• Possess hands on skill set on SD & MM modules.\\n• Experience on Unit testing (UT), functional testing (FT), UAT scripts and regression\", 'EDD, CDD, credit risk assessment, KYC, Banking, credit risk analysis, Customer Handling,\\nPortfolio Management, Customer Service\\n', 'Windows'}\n"
     ]
    }
   ],
   "source": [
    "# Finding all the unique skills in data\n",
    "uniq_skills=[]\n",
    "for lines in df['annotation']:\n",
    "    u = str(lines[0]['label']).strip('[\\'\\']')\n",
    "    if u == 'Skills':\n",
    "        for skill in lines[0]['points']:\n",
    "            l= skill['text']\n",
    "            uniq_skills.append(l)\n",
    "print(set(uniq_skills))            "
   ]
  },
  {
   "cell_type": "markdown",
   "metadata": {},
   "source": [
    "We note here that annotated skills were not just skill, annotators labelled whole/subset line in skills section of resume including \n",
    "punctuations and next line character which is not at all a good idea for spacy ner input"
   ]
  },
  {
   "cell_type": "markdown",
   "metadata": {},
   "source": [
    "# Phase 3 : Data Preparation"
   ]
  },
  {
   "cell_type": "markdown",
   "metadata": {},
   "source": [
    "We will now annotate our training data using open source tool [doccano](https://github.com/chakki-works/doccano) since in dataturks annotation we are not aware of what guidelines were given to annotators for labeling and also we observed that they have not just annotated individual skills instead they went ahead and annotated whole line of skills along with punctuations and next line character. We want to avoid those when we annoate our training data.\n",
    "\n",
    "**Guideline**: Our annotating guideline would be to label individual skills appearing in content of resume anywhere not just in skills section and avoiding punctuations and nextline character.\n",
    "    \n",
    "The keys fields in annotated data are:\n",
    "\n",
    "- id - serial number given by doccano annotator tool\n",
    "- text - content of resumes\n",
    "- meta - no meta \n",
    "- annotation approver - null in our case\n",
    "- label - skills which are annotated in each resumes content    "
   ]
  },
  {
   "cell_type": "markdown",
   "metadata": {},
   "source": [
    "![alt text](annotator_1.png \"Docanno Annotator\")"
   ]
  },
  {
   "cell_type": "markdown",
   "metadata": {},
   "source": [
    "![alt text](annotator_2.png \"Annotating\")"
   ]
  },
  {
   "cell_type": "code",
   "execution_count": 19,
   "metadata": {},
   "outputs": [],
   "source": [
    "# Remove all the next line delimiter from training data before annotating and replace it with whitespace\n",
    "PATH ='/Users/raj/Desktop/ML-Learning_skills/data/entity_recognition_in_resumes.json'\n",
    "\n",
    "with open(PATH, 'r') as f:\n",
    "    lines = f.readlines()\n",
    "d=[]\n",
    "for line in lines:\n",
    "    data = json.loads(line)\n",
    "    text = data['content']\n",
    "    d.append(text.replace('\\n', ' '))\n",
    "    \n",
    "d=pd.DataFrame(d)\n",
    "d.to_csv('/Users/raj/Desktop/ML-Learning_skills/data/annotate_resume.csv',index=False)"
   ]
  },
  {
   "cell_type": "markdown",
   "metadata": {},
   "source": [
    "Upload this csv file to annotator and export a json file from tool once annotation is done"
   ]
  },
  {
   "cell_type": "code",
   "execution_count": 73,
   "metadata": {},
   "outputs": [],
   "source": [
    "# Preparing Training data for NER\n",
    "PATH ='/Users/raj/Desktop/ML-Learning_skills/data/file_ner.json1'\n",
    "\n",
    "annotated_data = []\n",
    "lines=[]\n",
    "with open(PATH, 'r') as f:\n",
    "    lines = f.readlines()\n",
    "\n",
    "for line in lines:\n",
    "    data = json.loads(line)\n",
    "    text = data['text']\n",
    "    entities = []\n",
    "    for label in data['labels']:\n",
    "        entities.append(label)\n",
    "    annotated_data.append((text, {\"entities\": data['labels']}))"
   ]
  },
  {
   "cell_type": "code",
   "execution_count": 74,
   "metadata": {},
   "outputs": [
    {
     "data": {
      "text/plain": [
       "('\"Abhishek Jha Application Development Associate - Accenture  Bengaluru, Karnataka - Email me on Indeed: indeed.com/r/Abhishek-Jha/10e7a8cb732bc43a  • To work for an organization which provides me the opportunity to improve my skills and knowledge for my individual and company\\'s growth in best possible ways.  Willing to relocate to: Bangalore, Karnataka  WORK EXPERIENCE  Application Development Associate  Accenture -  November 2017 to Present  Role: Currently working on Chat-bot. Developing Backend Oracle PeopleSoft Queries for the Bot which will be triggered based on given input. Also, Training the bot for different possible utterances (Both positive and negative), which will be given as input by the user.  EDUCATION  B.E in Information science and engineering  B.v.b college of engineering and technology -  Hubli, Karnataka  August 2013 to June 2017  12th in Mathematics  Woodbine modern school  April 2011 to March 2013  10th  Kendriya Vidyalaya  April 2001 to March 2011  SKILLS  C (Less than 1 year), Database (Less than 1 year), Database Management (Less than 1 year), Database Management System (Less than 1 year), Java (Less than 1 year)  ADDITIONAL INFORMATION  Technical Skills  https://www.indeed.com/r/Abhishek-Jha/10e7a8cb732bc43a?isid=rex-download&ikw=download-top&co=IN   • Programming language: C, C++, Java • Oracle PeopleSoft • Internet Of Things • Machine Learning • Database Management System • Computer Networks • Operating System worked on: Linux, Windows, Mac  Non - Technical Skills  • Honest and Hard-Working • Tolerant and Flexible to Different Situations • Polite and Calm • Team-Player\"',\n",
       " {'entities': [[994, 995, 'Skills'],\n",
       "   [1016, 1024, 'Skills'],\n",
       "   [1045, 1064, 'Skills'],\n",
       "   [1085, 1111, 'Skills'],\n",
       "   [1132, 1136, 'Skills'],\n",
       "   [1321, 1322, 'Skills'],\n",
       "   [1324, 1327, 'Skills'],\n",
       "   [1329, 1333, 'Skills'],\n",
       "   [1335, 1353, 'Skills'],\n",
       "   [1356, 1374, 'Skills'],\n",
       "   [1376, 1393, 'Skills'],\n",
       "   [1396, 1422, 'Skills'],\n",
       "   [1425, 1442, 'Skills'],\n",
       "   [1473, 1478, 'Skills'],\n",
       "   [1480, 1487, 'Skills'],\n",
       "   [1489, 1492, 'Skills'],\n",
       "   [1612, 1623, 'Skills']]})"
      ]
     },
     "execution_count": 74,
     "metadata": {},
     "output_type": "execute_result"
    }
   ],
   "source": [
    " annotated_data[0]"
   ]
  },
  {
   "cell_type": "markdown",
   "metadata": {},
   "source": [
    "We have trained 220 resumes for skills , now we will train our model on 200 resumes and test on 20 resumes."
   ]
  },
  {
   "cell_type": "code",
   "execution_count": 79,
   "metadata": {},
   "outputs": [],
   "source": [
    "training_data=  annotated_data[0:200]\n",
    "test_data = annotated_data[200:220]"
   ]
  },
  {
   "cell_type": "code",
   "execution_count": 80,
   "metadata": {},
   "outputs": [
    {
     "name": "stdout",
     "output_type": "stream",
     "text": [
      "200 20\n"
     ]
    }
   ],
   "source": [
    "print(len(training_data), len(test_data))"
   ]
  },
  {
   "cell_type": "markdown",
   "metadata": {},
   "source": [
    "# Phase 4: Modeling"
   ]
  },
  {
   "cell_type": "markdown",
   "metadata": {},
   "source": [
    "In this phase, we will train the model on 200 annotated resumes with 100 iterations on google colab in GPU environment to train our model faster and we will the use the saved model here for predictions"
   ]
  },
  {
   "cell_type": "code",
   "execution_count": null,
   "metadata": {},
   "outputs": [],
   "source": [
    "def main(model=None, output_dir=None, n_iter=100):\n",
    "    \"\"\"Load the model, set up the pipeline and train the entity recognizer.\"\"\"\n",
    "    if model is not None:\n",
    "        nlp = spacy.load(model)  # load existing spaCy model\n",
    "        print(\"Loaded model '%s'\" % model)\n",
    "    else:\n",
    "        nlp = spacy.blank(\"en\")  # create blank Language class\n",
    "        print(\"Created blank 'en' model\")\n",
    "\n",
    "    # create the built-in pipeline components and add them to the pipeline\n",
    "    # nlp.create_pipe works for built-ins that are registered with spaCy\n",
    "    if \"ner\" not in nlp.pipe_names:\n",
    "        ner = nlp.create_pipe(\"ner\")\n",
    "        nlp.add_pipe(ner, last=True)\n",
    "    # otherwise, get it so we can add labels\n",
    "    else:\n",
    "        ner = nlp.get_pipe(\"ner\")\n",
    "\n",
    "    # add labels\n",
    "    for _, annotations in training_data:\n",
    "        for ent in annotations.get(\"entities\"):\n",
    "            ner.add_label(ent[2])\n",
    "\n",
    "    # get names of other pipes to disable them during training\n",
    "    other_pipes = [pipe for pipe in nlp.pipe_names if pipe != \"ner\"]\n",
    "    with nlp.disable_pipes(*other_pipes):  # only train NER\n",
    "        # reset and initialize the weights randomly – but only if we're\n",
    "        # training a new model\n",
    "        if model is None:\n",
    "            nlp.begin_training()\n",
    "        for itn in range(n_iter):\n",
    "            random.shuffle(training_data)\n",
    "            losses = {}\n",
    "            # batch up the examples using spaCy's minibatch\n",
    "            batches = minibatch(training_data, size=compounding(4.0, 32.0, 1.001))\n",
    "            for batch in batches:\n",
    "                texts, annotations = zip(*batch)\n",
    "                nlp.update(\n",
    "                    texts,  # batch of texts\n",
    "                    annotations,  # batch of annotations\n",
    "                    drop=0.5,  # dropout - make it harder to memorise data\n",
    "                    losses=losses,\n",
    "                )\n",
    "            print(\"Losses\", losses)\n",
    "\n",
    "    # test the trained model\n",
    "    for text, _ in training_data:\n",
    "        doc = nlp(text)\n",
    "        print(\"Entities\", [(ent.text, ent.label_) for ent in doc.ents])\n",
    "        print(\"Tokens\", [(t.text, t.ent_type_, t.ent_iob) for t in doc])\n",
    "\n",
    "    # save model to output directory\n",
    "    if output_dir is not None:\n",
    "        output_dir = Path(output_dir)\n",
    "        if not output_dir.exists():\n",
    "            output_dir.mkdir()\n",
    "        nlp.to_disk(output_dir)\n",
    "        print(\"Saved model to\", output_dir)\n",
    "\n",
    "        # test the saved model\n",
    "        print(\"Loading from\", output_dir)\n",
    "        nlp2 = spacy.load(output_dir)\n",
    "        for text, _ in training_data:\n",
    "            doc = nlp2(text)\n",
    "            print(\"Entities\", [(ent.text, ent.label_) for ent in doc.ents])\n",
    "            print(\"Tokens\", [(t.text, t.ent_type_, t.ent_iob) for t in doc])\n",
    "\n",
    "# trained this model with 100 iterations in google colab using GPU runtime with loss: Losses {'ner': 465.24571515528373} \n",
    "main(output_dir='/Users/raj/Desktop/ML-Learning_skills/ner_model/') "
   ]
  },
  {
   "cell_type": "code",
   "execution_count": 96,
   "metadata": {},
   "outputs": [],
   "source": [
    "# Loading the saved model\n",
    "ner_model = spacy.load('/Users/raj/Desktop/ML-Learning_skills/ner_model/')"
   ]
  },
  {
   "cell_type": "code",
   "execution_count": 447,
   "metadata": {},
   "outputs": [],
   "source": [
    "# test the saved model\n",
    "test_text = '\"Abhishek Jha Application Development Associate - Accenture  Bengaluru, Karnataka - Email me on Indeed: indeed.com/r/Abhishek-Jha/10e7a8cb732bc43a  • To work for an organization which provides me the opportunity to improve my skills and knowledge for my individual and company\\'s growth in best possible ways.  Willing to relocate to: Bangalore, Karnataka  WORK EXPERIENCE  Application Development Associate  Accenture -  November 2017 to Present  Role: Currently working on Chat-bot. Develop Keras models for the Bot which will be triggered based on given input. Also, Training the bot for different possible utterances (Both positive and negative), which will be given as input by the user.  EDUCATION  B.E in Information science and engineering  B.v.b college of engineering and technology -  Hubli, Karnataka  August 2013 to June 2017  12th in Mathematics  Woodbine modern school  April 2011 to March 2013  10th  Kendriya Vidyalaya  April 2001 to March 2011  SKILLS  KERAS (Less than 1 year), Database (Less than 1 year), Database Management (Less than 1 year), Database Management System (Less than 1 year), Java (Less than 1 year)  ADDITIONAL INFORMATION  Technical Skills  https://www.indeed.com/r/Abhishek-Jha/10e7a8cb732bc43a?isid=rex-download&ikw=download-top&co=IN   • Programming language: C, C++, Java • Oracle PeopleSoft • Internet Of Things • Machine Learning • Database Management System • Computer Networks • Operating System worked on: Linux, Windows, Mac  Non - Technical Skills  • Honest and Hard-Working • Tolerant and Flexible to Different Situations • Polite and Calm • Team-Player\"'"
   ]
  },
  {
   "cell_type": "markdown",
   "metadata": {},
   "source": [
    "In the resume content I have added  skill **KERAS** which was not seen during labeling. Let's see if our model can learn this as new skill"
   ]
  },
  {
   "cell_type": "code",
   "execution_count": 448,
   "metadata": {},
   "outputs": [],
   "source": [
    "doc = ner_model(test_text)"
   ]
  },
  {
   "cell_type": "code",
   "execution_count": 449,
   "metadata": {},
   "outputs": [
    {
     "data": {
      "text/html": [
       "<div class=\"entities\" style=\"line-height: 2.5; direction: ltr\">&quot;Abhishek Jha Application Development Associate - Accenture  Bengaluru, Karnataka - Email me on Indeed: indeed.com/r/Abhishek-Jha/10e7a8cb732bc43a  • To work for an organization which provides me the opportunity to improve my skills and knowledge for my individual and company's growth in best possible ways.  Willing to relocate to: Bangalore, Karnataka  WORK EXPERIENCE  Application Development Associate  Accenture -  November 2017 to Present  Role: Currently working on Chat-bot. Develop Keras models for the Bot which will be triggered based on given input. Also, Training the bot for different possible utterances (Both positive and negative), which will be given as input by the user.  EDUCATION  B.E in Information science and engineering  B.v.b college of engineering and technology -  Hubli, Karnataka  August 2013 to June 2017  12th in Mathematics  Woodbine modern school  April 2011 to March 2013  10th  Kendriya Vidyalaya  April 2001 to March 2011  SKILLS  \n",
       "<mark class=\"entity\" style=\"background: #ddd; padding: 0.45em 0.6em; margin: 0 0.25em; line-height: 1; border-radius: 0.35em; box-decoration-break: clone; -webkit-box-decoration-break: clone\">\n",
       "    KERAS\n",
       "    <span style=\"font-size: 0.8em; font-weight: bold; line-height: 1; border-radius: 0.35em; text-transform: uppercase; vertical-align: middle; margin-left: 0.5rem\">Skills</span>\n",
       "</mark>\n",
       " (Less than 1 year), \n",
       "<mark class=\"entity\" style=\"background: #ddd; padding: 0.45em 0.6em; margin: 0 0.25em; line-height: 1; border-radius: 0.35em; box-decoration-break: clone; -webkit-box-decoration-break: clone\">\n",
       "    Database\n",
       "    <span style=\"font-size: 0.8em; font-weight: bold; line-height: 1; border-radius: 0.35em; text-transform: uppercase; vertical-align: middle; margin-left: 0.5rem\">Skills</span>\n",
       "</mark>\n",
       " (Less than 1 year), \n",
       "<mark class=\"entity\" style=\"background: #ddd; padding: 0.45em 0.6em; margin: 0 0.25em; line-height: 1; border-radius: 0.35em; box-decoration-break: clone; -webkit-box-decoration-break: clone\">\n",
       "    Database Management\n",
       "    <span style=\"font-size: 0.8em; font-weight: bold; line-height: 1; border-radius: 0.35em; text-transform: uppercase; vertical-align: middle; margin-left: 0.5rem\">Skills</span>\n",
       "</mark>\n",
       " (Less than 1 year), \n",
       "<mark class=\"entity\" style=\"background: #ddd; padding: 0.45em 0.6em; margin: 0 0.25em; line-height: 1; border-radius: 0.35em; box-decoration-break: clone; -webkit-box-decoration-break: clone\">\n",
       "    Database Management System\n",
       "    <span style=\"font-size: 0.8em; font-weight: bold; line-height: 1; border-radius: 0.35em; text-transform: uppercase; vertical-align: middle; margin-left: 0.5rem\">Skills</span>\n",
       "</mark>\n",
       " (Less than 1 year), \n",
       "<mark class=\"entity\" style=\"background: #ddd; padding: 0.45em 0.6em; margin: 0 0.25em; line-height: 1; border-radius: 0.35em; box-decoration-break: clone; -webkit-box-decoration-break: clone\">\n",
       "    Java\n",
       "    <span style=\"font-size: 0.8em; font-weight: bold; line-height: 1; border-radius: 0.35em; text-transform: uppercase; vertical-align: middle; margin-left: 0.5rem\">Skills</span>\n",
       "</mark>\n",
       " (Less than 1 year)  ADDITIONAL INFORMATION  Technical Skills  https://www.indeed.com/r/Abhishek-Jha/10e7a8cb732bc43a?isid=rex-download&amp;ikw=download-top&amp;co=IN   • Programming language: \n",
       "<mark class=\"entity\" style=\"background: #ddd; padding: 0.45em 0.6em; margin: 0 0.25em; line-height: 1; border-radius: 0.35em; box-decoration-break: clone; -webkit-box-decoration-break: clone\">\n",
       "    C\n",
       "    <span style=\"font-size: 0.8em; font-weight: bold; line-height: 1; border-radius: 0.35em; text-transform: uppercase; vertical-align: middle; margin-left: 0.5rem\">Skills</span>\n",
       "</mark>\n",
       ", \n",
       "<mark class=\"entity\" style=\"background: #ddd; padding: 0.45em 0.6em; margin: 0 0.25em; line-height: 1; border-radius: 0.35em; box-decoration-break: clone; -webkit-box-decoration-break: clone\">\n",
       "    C++\n",
       "    <span style=\"font-size: 0.8em; font-weight: bold; line-height: 1; border-radius: 0.35em; text-transform: uppercase; vertical-align: middle; margin-left: 0.5rem\">Skills</span>\n",
       "</mark>\n",
       ", \n",
       "<mark class=\"entity\" style=\"background: #ddd; padding: 0.45em 0.6em; margin: 0 0.25em; line-height: 1; border-radius: 0.35em; box-decoration-break: clone; -webkit-box-decoration-break: clone\">\n",
       "    Java\n",
       "    <span style=\"font-size: 0.8em; font-weight: bold; line-height: 1; border-radius: 0.35em; text-transform: uppercase; vertical-align: middle; margin-left: 0.5rem\">Skills</span>\n",
       "</mark>\n",
       " • \n",
       "<mark class=\"entity\" style=\"background: #ddd; padding: 0.45em 0.6em; margin: 0 0.25em; line-height: 1; border-radius: 0.35em; box-decoration-break: clone; -webkit-box-decoration-break: clone\">\n",
       "    Oracle PeopleSoft\n",
       "    <span style=\"font-size: 0.8em; font-weight: bold; line-height: 1; border-radius: 0.35em; text-transform: uppercase; vertical-align: middle; margin-left: 0.5rem\">Skills</span>\n",
       "</mark>\n",
       " • \n",
       "<mark class=\"entity\" style=\"background: #ddd; padding: 0.45em 0.6em; margin: 0 0.25em; line-height: 1; border-radius: 0.35em; box-decoration-break: clone; -webkit-box-decoration-break: clone\">\n",
       "    Internet Of Things\n",
       "    <span style=\"font-size: 0.8em; font-weight: bold; line-height: 1; border-radius: 0.35em; text-transform: uppercase; vertical-align: middle; margin-left: 0.5rem\">Skills</span>\n",
       "</mark>\n",
       " • \n",
       "<mark class=\"entity\" style=\"background: #ddd; padding: 0.45em 0.6em; margin: 0 0.25em; line-height: 1; border-radius: 0.35em; box-decoration-break: clone; -webkit-box-decoration-break: clone\">\n",
       "    Machine Learning\n",
       "    <span style=\"font-size: 0.8em; font-weight: bold; line-height: 1; border-radius: 0.35em; text-transform: uppercase; vertical-align: middle; margin-left: 0.5rem\">Skills</span>\n",
       "</mark>\n",
       " • \n",
       "<mark class=\"entity\" style=\"background: #ddd; padding: 0.45em 0.6em; margin: 0 0.25em; line-height: 1; border-radius: 0.35em; box-decoration-break: clone; -webkit-box-decoration-break: clone\">\n",
       "    Database Management System\n",
       "    <span style=\"font-size: 0.8em; font-weight: bold; line-height: 1; border-radius: 0.35em; text-transform: uppercase; vertical-align: middle; margin-left: 0.5rem\">Skills</span>\n",
       "</mark>\n",
       " • \n",
       "<mark class=\"entity\" style=\"background: #ddd; padding: 0.45em 0.6em; margin: 0 0.25em; line-height: 1; border-radius: 0.35em; box-decoration-break: clone; -webkit-box-decoration-break: clone\">\n",
       "    Computer Networks\n",
       "    <span style=\"font-size: 0.8em; font-weight: bold; line-height: 1; border-radius: 0.35em; text-transform: uppercase; vertical-align: middle; margin-left: 0.5rem\">Skills</span>\n",
       "</mark>\n",
       " • Operating System worked on: \n",
       "<mark class=\"entity\" style=\"background: #ddd; padding: 0.45em 0.6em; margin: 0 0.25em; line-height: 1; border-radius: 0.35em; box-decoration-break: clone; -webkit-box-decoration-break: clone\">\n",
       "    Linux\n",
       "    <span style=\"font-size: 0.8em; font-weight: bold; line-height: 1; border-radius: 0.35em; text-transform: uppercase; vertical-align: middle; margin-left: 0.5rem\">Skills</span>\n",
       "</mark>\n",
       ", \n",
       "<mark class=\"entity\" style=\"background: #ddd; padding: 0.45em 0.6em; margin: 0 0.25em; line-height: 1; border-radius: 0.35em; box-decoration-break: clone; -webkit-box-decoration-break: clone\">\n",
       "    Windows\n",
       "    <span style=\"font-size: 0.8em; font-weight: bold; line-height: 1; border-radius: 0.35em; text-transform: uppercase; vertical-align: middle; margin-left: 0.5rem\">Skills</span>\n",
       "</mark>\n",
       ", \n",
       "<mark class=\"entity\" style=\"background: #ddd; padding: 0.45em 0.6em; margin: 0 0.25em; line-height: 1; border-radius: 0.35em; box-decoration-break: clone; -webkit-box-decoration-break: clone\">\n",
       "    Mac\n",
       "    <span style=\"font-size: 0.8em; font-weight: bold; line-height: 1; border-radius: 0.35em; text-transform: uppercase; vertical-align: middle; margin-left: 0.5rem\">Skills</span>\n",
       "</mark>\n",
       "  Non - Technical Skills  • Honest and Hard-Working • Tolerant and Flexible to Different Situations • Polite and Calm • \n",
       "<mark class=\"entity\" style=\"background: #ddd; padding: 0.45em 0.6em; margin: 0 0.25em; line-height: 1; border-radius: 0.35em; box-decoration-break: clone; -webkit-box-decoration-break: clone\">\n",
       "    Team-Player\n",
       "    <span style=\"font-size: 0.8em; font-weight: bold; line-height: 1; border-radius: 0.35em; text-transform: uppercase; vertical-align: middle; margin-left: 0.5rem\">Skills</span>\n",
       "</mark>\n",
       "&quot;</div>"
      ],
      "text/plain": [
       "<IPython.core.display.HTML object>"
      ]
     },
     "metadata": {},
     "output_type": "display_data"
    }
   ],
   "source": [
    "displacy.render(doc, style=\"ent\")"
   ]
  },
  {
   "cell_type": "markdown",
   "metadata": {},
   "source": [
    "- We observe that model was able to identify **KERAS** as new skill from resume"
   ]
  },
  {
   "cell_type": "markdown",
   "metadata": {},
   "source": [
    "# Phase 5: Evaluation"
   ]
  },
  {
   "cell_type": "markdown",
   "metadata": {},
   "source": [
    "Our goal was to learn new skills from resumes. So, how good our model is doing that ? "
   ]
  },
  {
   "cell_type": "markdown",
   "metadata": {},
   "source": [
    "We will test our trained model on 20 test annotated resumes which were not seen by model during training"
   ]
  },
  {
   "cell_type": "code",
   "execution_count": 370,
   "metadata": {},
   "outputs": [
    {
     "name": "stdout",
     "output_type": "stream",
     "text": [
      "\n",
      " For Entity Skills\n",
      "\n",
      "Accuracy : 98.7878787878788%\n",
      "Precision : 0.9880266075388027\n",
      "Recall : 0.9878787878787879\n",
      "F-score : 0.9848856664807586\n"
     ]
    }
   ],
   "source": [
    "#test the model and evaluate it\n",
    "    nlp = spacy.load('/Users/raj/Desktop/ML-Learning_skills/ner_model/')  \n",
    "    examples = test_data\n",
    "    tp=0\n",
    "    tr=0\n",
    "    tf=0\n",
    "\n",
    "    ta=0\n",
    "    c=0        \n",
    "    for text,annot in examples:\n",
    "        f=open(\"resume\"+str(c)+\".txt\",\"w\")\n",
    "        doc_to_test=nlp(text)\n",
    "        d={}\n",
    "        for ent in doc_to_test.ents:\n",
    "            d[ent.label_]=[]\n",
    "        for ent in doc_to_test.ents:\n",
    "            d[ent.label_].append(ent.text)\n",
    "\n",
    "        for i in set(d.keys()):\n",
    "\n",
    "            f.write(\"\\n\\n\")\n",
    "            f.write(i +\":\"+\"\\n\")\n",
    "            for j in set(d[i]):\n",
    "                f.write(j.replace('\\n','')+\"\\n\")\n",
    "        d={}\n",
    "        for ent in doc_to_test.ents:\n",
    "            #print(ent)\n",
    "            d[ent.label_]=[0,0,0,0,0,0]\n",
    "        for ent in doc_to_test.ents:\n",
    "            doc_gold_text= nlp.make_doc(text)\n",
    "            gold = GoldParse(doc_gold_text, entities=annot.get(\"entities\"))\n",
    "            y_true = [ent.label_ if ent.label_ in x else 'Not '+ent.label_ for x in gold.ner]\n",
    "            y_pred = [x.ent_type_ if x.ent_type_ ==ent.label_ else 'Not '+ent.label_ for x in doc_to_test]  \n",
    "            if(d[ent.label_][0]==0):\n",
    "               \n",
    "                (p,r,f,s)= precision_recall_fscore_support(y_true,y_pred,average='weighted')\n",
    "                a=accuracy_score(y_true,y_pred)\n",
    "                d[ent.label_][0]=1\n",
    "                d[ent.label_][1]+=p\n",
    "                d[ent.label_][2]+=r\n",
    "                d[ent.label_][3]+=f\n",
    "                d[ent.label_][4]+=a\n",
    "                d[ent.label_][5]+=1\n",
    "        c+=1\n",
    "    for i in d:\n",
    "        print(\"\\n For Entity \"+i+\"\\n\")\n",
    "        print(\"Accuracy : \"+str((d[i][4]/d[i][5])*100)+\"%\")\n",
    "        print(\"Precision : \"+str(d[i][1]/d[i][5]))\n",
    "        print(\"Recall : \"+str(d[i][2]/d[i][5]))\n",
    "        print(\"F-score : \"+str(d[i][3]/d[i][5]))        "
   ]
  },
  {
   "cell_type": "code",
   "execution_count": 385,
   "metadata": {},
   "outputs": [
    {
     "name": "stdout",
     "output_type": "stream",
     "text": [
      "{'operations', 'html', 'ms-access', 'sap bi', 'server management', 'pl/sql', 'microsoft office', 'microsoft azure', '− conversant', 'asp.net', 'excel', 'web development', 'data management', 'ms office', 'siem', 'css3', 'angularjs', 'ms-office', 'css', 'splunk', 'sql', 'network management', 'manual testing', 'html5', 'network media', 'javascript', 'word', 'power point', 'windows', '5', 'javascript/jquery', 'derivatives', 'cfa', 'network according', 'c', 'auditing', 'data backup', 'c#', 'sap hana', 'project management', 'java', 'lan', 'sql server', 'microsoft office 2007', 'software management', 'exchange', 'unix', 'vba', 'web server', 'incident management', 'sap', 'powerpoint'}\n"
     ]
    }
   ],
   "source": [
    "# Looking at all the skills learned by model in test data and converting them to lowercase\n",
    "test_skills = []\n",
    "for text, _ in test_data:\n",
    "        doc = nlp(text)\n",
    "        for ent in doc.ents:\n",
    "            test_skills.append(ent.text.lower())\n",
    "print(set(test_skills))"
   ]
  },
  {
   "cell_type": "markdown",
   "metadata": {},
   "source": [
    "# Phase 6: Deployment"
   ]
  },
  {
   "cell_type": "markdown",
   "metadata": {},
   "source": [
    "Model can be deployed on cloud providers like AWS "
   ]
  },
  {
   "cell_type": "markdown",
   "metadata": {},
   "source": [
    "# Credits      "
   ]
  },
  {
   "cell_type": "markdown",
   "metadata": {},
   "source": [
    "- [Automatic Summarization of Resumes using Spacy](https://medium.com/@dataturks/automatic-summarization-of-resumes-with-ner-8b97a5f562b)\n",
    "- [Training NER models using Spacy](https://spacy.io/usage/training#ner)"
   ]
  }
 ],
 "metadata": {
  "kernelspec": {
   "display_name": "Python 3",
   "language": "python",
   "name": "python3"
  },
  "language_info": {
   "codemirror_mode": {
    "name": "ipython",
    "version": 3
   },
   "file_extension": ".py",
   "mimetype": "text/x-python",
   "name": "python",
   "nbconvert_exporter": "python",
   "pygments_lexer": "ipython3",
   "version": "3.6.7"
  },
  "varInspector": {
   "cols": {
    "lenName": 16,
    "lenType": 16,
    "lenVar": 40
   },
   "kernels_config": {
    "python": {
     "delete_cmd_postfix": "",
     "delete_cmd_prefix": "del ",
     "library": "var_list.py",
     "varRefreshCmd": "print(var_dic_list())"
    },
    "r": {
     "delete_cmd_postfix": ") ",
     "delete_cmd_prefix": "rm(",
     "library": "var_list.r",
     "varRefreshCmd": "cat(var_dic_list()) "
    }
   },
   "types_to_exclude": [
    "module",
    "function",
    "builtin_function_or_method",
    "instance",
    "_Feature"
   ],
   "window_display": false
  }
 },
 "nbformat": 4,
 "nbformat_minor": 2
}
